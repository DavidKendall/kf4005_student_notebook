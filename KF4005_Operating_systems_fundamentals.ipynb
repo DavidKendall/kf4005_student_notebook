{
 "cells": [
  {
   "cell_type": "markdown",
   "metadata": {},
   "source": [
    "# KF4005 Operating systems fundamentals\n",
    "\n",
    "## Assignment 2016-17 - Assessed laboratory\n",
    "\n",
    "### Introduction\n",
    "\n",
    "This lab session requires you to analyse a raw disk image such as might be obtained from a computer that you suspect may have been compromised. You should have with you the `disk_image_analysis` shell script that you have prepared to help you with this analysis. You will need to run this script at the appropriate point to generate a useful report. \n",
    "\n",
    "Work through the instructions below, entering commands into the code cells as required. At the end of the session,\n",
    "save the completed workbook and upload it to the eLP using the assignment link."
   ]
  },
  {
   "cell_type": "markdown",
   "metadata": {},
   "source": [
    "### Create directories for the lab session (2 marks)\n",
    "\n",
    "Enter a command in the code cell below to create directories for this assessed lab. The directories should be created in `/home/student` and should be called `/home/student/<your_user_id>/kf4005/bin` where you should replace `<your_user_id>` with your actual user id, e.g. `w12345678`. Create all directories using a single command."
   ]
  },
  {
   "cell_type": "code",
   "execution_count": null,
   "metadata": {
    "collapsed": true
   },
   "outputs": [],
   "source": []
  },
  {
   "cell_type": "markdown",
   "metadata": {},
   "source": [
    "### Obtain the raw disk image  (2 marks)\n",
    "\n",
    "Enter a command in the code cell below to copy the raw disk image from http://hesabu.net/kf4005/raw_disk_image into `/home/student/<your_user_id>/kf4005`. Note - you need to use a command in the code cell; do not simply use the link and a file browser. Also note that this file is 3GB and the download will take a few minutes to complete."
   ]
  },
  {
   "cell_type": "code",
   "execution_count": null,
   "metadata": {
    "collapsed": false
   },
   "outputs": [],
   "source": []
  },
  {
   "cell_type": "markdown",
   "metadata": {},
   "source": [
    "### Examine the partition table (2 marks)\n",
    "\n",
    "Enter commands in the code cell below to show the partition table of the raw disk image."
   ]
  },
  {
   "cell_type": "code",
   "execution_count": null,
   "metadata": {
    "collapsed": false
   },
   "outputs": [],
   "source": []
  },
  {
   "cell_type": "markdown",
   "metadata": {},
   "source": [
    "### Partition table questions (6 marks)\n",
    "\n",
    "Briefly answer the following questions about the partition table in the cell below.\n",
    "\n",
    "1. What is the total size of the raw disk image in bytes?\n",
    "2. What is the name of the bootable partition?\n",
    "3. What is the offset in bytes of the start of the first partition? (show your working)"
   ]
  },
  {
   "cell_type": "markdown",
   "metadata": {},
   "source": [
    "### Partition table answers go here\n",
    "\n",
    "\n"
   ]
  },
  {
   "cell_type": "markdown",
   "metadata": {},
   "source": [
    "### Mount the raw disk image (6 marks)\n",
    "\n",
    "Enter commands in the code cell below to\n",
    "1. Create a mount point for the raw disk image.\n",
    "  * Call the mount point `/home/student/<your_user_id>/kf4005/image`\n",
    "2. Mount the raw disk image to the mount point\n",
    "  * the image must be mounted read-only\n",
    "  * the image must be mounted so that access times will not be changed when the image is accessed\n",
    "  "
   ]
  },
  {
   "cell_type": "code",
   "execution_count": null,
   "metadata": {
    "collapsed": false
   },
   "outputs": [],
   "source": []
  },
  {
   "cell_type": "markdown",
   "metadata": {},
   "source": [
    "### Show the mount table (2 marks)\n",
    "\n",
    "Enter a command in the code cell below to show the mount table."
   ]
  },
  {
   "cell_type": "code",
   "execution_count": null,
   "metadata": {
    "collapsed": false
   },
   "outputs": [],
   "source": []
  },
  {
   "cell_type": "markdown",
   "metadata": {},
   "source": [
    "### Results from the disk_image_analysis (10 marks) \n",
    "\n",
    "Enter a command in the code cell below to run your `disk_image_analysis` script on the disk image file that you have already mounted at `/home/student/<your_user_id>/kf4005/image`. You will be assessed on how well the output satisfies the requirements for the script in the assignment specification."
   ]
  },
  {
   "cell_type": "code",
   "execution_count": null,
   "metadata": {
    "collapsed": true
   },
   "outputs": [],
   "source": []
  },
  {
   "cell_type": "markdown",
   "metadata": {},
   "source": [
    "### Quality of the disk_image_analysis script (10 marks)\n",
    "\n",
    "Paste the text of your `disk_image_analysis` script into the cell below in between the \n",
    "triple backquotes. Your script will be assessed on the basis of\n",
    "    1. Use of functions - functional decomposition\n",
    "    2. Use of meaningful variable and function names\n",
    "    3. Use of layout that aids the understanding of the reader\n",
    "    4. Use of typical small Unix programs such as `cut`, `tr`, `sort`, `uniq` etc.\n",
    "    5. Use of bash shell script idioms: parameter expansion, command substitution etc. "
   ]
  },
  {
   "cell_type": "markdown",
   "metadata": {},
   "source": [
    "### Shell script text goes in this cell (after ``` sh)\n",
    "\n",
    "``` sh\n",
    "\n",
    "\n",
    "```\n",
    "\n",
    "\n",
    "\n"
   ]
  }
 ],
 "metadata": {
  "kernelspec": {
   "display_name": "Bash",
   "language": "bash",
   "name": "bash"
  },
  "language_info": {
   "codemirror_mode": "shell",
   "file_extension": ".sh",
   "mimetype": "text/x-sh",
   "name": "bash"
  }
 },
 "nbformat": 4,
 "nbformat_minor": 0
}
